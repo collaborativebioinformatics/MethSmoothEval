{
 "cells": [
  {
   "cell_type": "code",
   "execution_count": 1,
   "id": "d1265a76-558c-4fbd-8ed9-5d23ac9817fc",
   "metadata": {},
   "outputs": [
    {
     "name": "stderr",
     "output_type": "stream",
     "text": [
      "Loading required package: Biobase\n",
      "\n",
      "Loading required package: BiocGenerics\n",
      "\n",
      "Loading required package: generics\n",
      "\n",
      "\n",
      "Attaching package: ‘generics’\n",
      "\n",
      "\n",
      "The following objects are masked from ‘package:base’:\n",
      "\n",
      "    as.difftime, as.factor, as.ordered, intersect, is.element, setdiff,\n",
      "    setequal, union\n",
      "\n",
      "\n",
      "\n",
      "Attaching package: ‘BiocGenerics’\n",
      "\n",
      "\n",
      "The following objects are masked from ‘package:stats’:\n",
      "\n",
      "    IQR, mad, sd, var, xtabs\n",
      "\n",
      "\n",
      "The following objects are masked from ‘package:base’:\n",
      "\n",
      "    Filter, Find, Map, Position, Reduce, anyDuplicated, aperm, append,\n",
      "    as.data.frame, basename, cbind, colnames, dirname, do.call,\n",
      "    duplicated, eval, evalq, get, grep, grepl, is.unsorted, lapply,\n",
      "    mapply, match, mget, order, paste, pmax, pmax.int, pmin, pmin.int,\n",
      "    rank, rbind, rownames, sapply, saveRDS, table, tapply, unique,\n",
      "    unsplit, which.max, which.min\n",
      "\n",
      "\n",
      "Welcome to Bioconductor\n",
      "\n",
      "    Vignettes contain introductory material; view with\n",
      "    'browseVignettes()'. To cite Bioconductor, see\n",
      "    'citation(\"Biobase\")', and for packages 'citation(\"pkgname\")'.\n",
      "\n",
      "\n",
      "Loading required package: BiocParallel\n",
      "\n",
      "Loading required package: bsseq\n",
      "\n",
      "Loading required package: GenomicRanges\n",
      "\n",
      "Loading required package: stats4\n",
      "\n",
      "Loading required package: S4Vectors\n",
      "\n",
      "\n",
      "Attaching package: ‘S4Vectors’\n",
      "\n",
      "\n",
      "The following object is masked from ‘package:utils’:\n",
      "\n",
      "    findMatches\n",
      "\n",
      "\n",
      "The following objects are masked from ‘package:base’:\n",
      "\n",
      "    I, expand.grid, unname\n",
      "\n",
      "\n",
      "Loading required package: IRanges\n",
      "\n",
      "Loading required package: GenomeInfoDb\n",
      "\n",
      "Loading required package: SummarizedExperiment\n",
      "\n",
      "Loading required package: MatrixGenerics\n",
      "\n",
      "Loading required package: matrixStats\n",
      "\n",
      "\n",
      "Attaching package: ‘matrixStats’\n",
      "\n",
      "\n",
      "The following objects are masked from ‘package:Biobase’:\n",
      "\n",
      "    anyMissing, rowMedians\n",
      "\n",
      "\n",
      "\n",
      "Attaching package: ‘MatrixGenerics’\n",
      "\n",
      "\n",
      "The following objects are masked from ‘package:matrixStats’:\n",
      "\n",
      "    colAlls, colAnyNAs, colAnys, colAvgsPerRowSet, colCollapse,\n",
      "    colCounts, colCummaxs, colCummins, colCumprods, colCumsums,\n",
      "    colDiffs, colIQRDiffs, colIQRs, colLogSumExps, colMadDiffs,\n",
      "    colMads, colMaxs, colMeans2, colMedians, colMins, colOrderStats,\n",
      "    colProds, colQuantiles, colRanges, colRanks, colSdDiffs, colSds,\n",
      "    colSums2, colTabulates, colVarDiffs, colVars, colWeightedMads,\n",
      "    colWeightedMeans, colWeightedMedians, colWeightedSds,\n",
      "    colWeightedVars, rowAlls, rowAnyNAs, rowAnys, rowAvgsPerColSet,\n",
      "    rowCollapse, rowCounts, rowCummaxs, rowCummins, rowCumprods,\n",
      "    rowCumsums, rowDiffs, rowIQRDiffs, rowIQRs, rowLogSumExps,\n",
      "    rowMadDiffs, rowMads, rowMaxs, rowMeans2, rowMedians, rowMins,\n",
      "    rowOrderStats, rowProds, rowQuantiles, rowRanges, rowRanks,\n",
      "    rowSdDiffs, rowSds, rowSums2, rowTabulates, rowVarDiffs, rowVars,\n",
      "    rowWeightedMads, rowWeightedMeans, rowWeightedMedians,\n",
      "    rowWeightedSds, rowWeightedVars\n",
      "\n",
      "\n",
      "The following object is masked from ‘package:Biobase’:\n",
      "\n",
      "    rowMedians\n",
      "\n",
      "\n",
      "Loading required package: parallel\n",
      "\n"
     ]
    }
   ],
   "source": [
    "library(DSS)"
   ]
  },
  {
   "cell_type": "code",
   "execution_count": 2,
   "id": "27cd470a-6b4f-45d9-b059-0acd9a4b5fe6",
   "metadata": {},
   "outputs": [],
   "source": [
    "library(BiocParallel)"
   ]
  },
  {
   "cell_type": "code",
   "execution_count": 18,
   "id": "dcce3492-ed00-4d63-b79d-830bd64eca4c",
   "metadata": {},
   "outputs": [],
   "source": [
    "convert_pacbio_count <- function(file, outfile, min_coverage = 5, verbose = FALSE) {\n",
    "  if (verbose) message(\"Reading PacBio file...\")\n",
    "  \n",
    "  df <- fread(file, header=TRUE)\n",
    "  setnames(df, gsub(\"^#\", \"\", colnames(df))) # rename '#chrom' → 'chrom'\n",
    "  \n",
    "  required_cols <- c(\"chrom\",\"begin\",\"end\",\"cov\",\"mod_count\")\n",
    "  if (!all(required_cols %in% colnames(df))) {\n",
    "    stop(\"PacBio file must contain columns: \", paste(required_cols, collapse=\", \"))\n",
    "  }\n",
    "  \n",
    "  if (verbose) {\n",
    "    message(\"Initial sites: \", nrow(df))\n",
    "    message(\"Mean coverage: \", round(mean(df$cov), 2))\n",
    "  }\n",
    "  \n",
    "  dss_df <- df %>%\n",
    "    mutate(chr = chrom,\n",
    "           pos = begin + 1,       # convert 0-based to 1-based\n",
    "           N   = cov,\n",
    "           X   = mod_count) %>%\n",
    "    filter(N >= min_coverage) %>%  # Apply coverage filter\n",
    "    select(chr, pos, N, X)\n",
    "  \n",
    "  if (verbose) {\n",
    "    message(\"Sites after filtering (coverage >= \", min_coverage, \"): \", nrow(dss_df))\n",
    "    message(\"Mean methylation rate: \", round(mean(dss_df$X / dss_df$N), 3))\n",
    "  }\n",
    "  \n",
    "  write.table(dss_df, file=outfile, sep=\"\\t\", quote=FALSE,\n",
    "              row.names=FALSE, col.names=TRUE)\n",
    "  \n",
    "  return(nrow(dss_df))\n",
    "}"
   ]
  },
  {
   "cell_type": "code",
   "execution_count": 19,
   "id": "7a75e123-370a-42a3-8e29-615bbb2aa5f8",
   "metadata": {},
   "outputs": [
    {
     "name": "stderr",
     "output_type": "stream",
     "text": [
      "Reading PacBio file...\n",
      "\n",
      "Initial sites: 597011\n",
      "\n",
      "Mean coverage: 30.34\n",
      "\n",
      "Sites after filtering (coverage >= 5): 597011\n",
      "\n",
      "Mean methylation rate: 0.671\n",
      "\n"
     ]
    }
   ],
   "source": [
    "hg002_dss <- convert_pacbio_count(\"data/HG002.pacbio.chr22.count.combined.bed.gz\",\n",
    "                                  \"data/HG002.pacbio.chr22.count.dss.bed\", verbose=TRUE)"
   ]
  },
  {
   "cell_type": "code",
   "execution_count": 23,
   "id": "a0d82381-6b19-4be9-a672-dff672de7335",
   "metadata": {},
   "outputs": [
    {
     "name": "stderr",
     "output_type": "stream",
     "text": [
      "Reading PacBio file...\n",
      "\n",
      "Initial sites: 552273\n",
      "\n",
      "Mean coverage: 12.86\n",
      "\n",
      "Sites after filtering (coverage >= 5): 552273\n",
      "\n",
      "Mean methylation rate: 0.69\n",
      "\n",
      "Reading PacBio file...\n",
      "\n",
      "Initial sites: 548166\n",
      "\n",
      "Mean coverage: 13.02\n",
      "\n",
      "Sites after filtering (coverage >= 5): 548166\n",
      "\n",
      "Mean methylation rate: 0.692\n",
      "\n"
     ]
    }
   ],
   "source": [
    "st001Lung_hap1_dss <- convert_pacbio_count(\"data/st001.lung.pacbio.chr22.count.hap1.bed.gz\",\n",
    "                                  \"data/st001.lung.pacbio.chr22.hap1.count.dss.bed\", verbose=TRUE)\n",
    "\n",
    "st001Lung_hap2_dss <- convert_pacbio_count(\"data/st001.lung.pacbio.chr22.count.hap2.bed.gz\",\n",
    "                                  \"data/st001.lung.pacbio.chr22.hap2.count.dss.bed\", verbose=TRUE)"
   ]
  },
  {
   "cell_type": "code",
   "execution_count": 24,
   "id": "c9395171-0112-4e36-b74d-6e11a46c07a1",
   "metadata": {},
   "outputs": [],
   "source": [
    "sample_files <- c(\"data//HG002.pacbio.chr22.count.dss.bed\", \"data/st001.lung.pacbio.chr22.hap2.count.dss.bed\",\n",
    "                 \"data/st001.lung.pacbio.chr22.hap1.count.dss.bed\")"
   ]
  },
  {
   "cell_type": "code",
   "execution_count": 25,
   "id": "649da09f-3738-4699-bc6a-9eaf4cc59239",
   "metadata": {},
   "outputs": [],
   "source": [
    "sample_names <- c(\"HG002_pb\",\"st001Lung_hap1\",\"st001Lung_hap2\")"
   ]
  },
  {
   "cell_type": "code",
   "execution_count": 16,
   "id": "db79df98-e75a-4a9e-bda8-056cf05c0390",
   "metadata": {
    "jupyter": {
     "source_hidden": true
    }
   },
   "outputs": [],
   "source": [
    "load_bs_data <- function(sample_files, sample_names, coverage_threshold = 5) {\n",
    "  \n",
    "  cat(\"Loading bisulfite sequencing data files...\\n\")\n",
    "  \n",
    "  # Validate inputs\n",
    "  if(length(sample_files) != length(sample_names)) {\n",
    "    stop(\"Number of sample files must match number of sample names\")\n",
    "  }\n",
    "  \n",
    "  # Load all data files\n",
    "  dat_list <- list()\n",
    "  for(i in 1:length(sample_files)) {\n",
    "    cat(paste(\"Loading\", sample_files[i], \"\\n\"))\n",
    "    \n",
    "    if(!file.exists(sample_files[i])) {\n",
    "      stop(paste(\"File not found:\", sample_files[i]))\n",
    "    }\n",
    "    \n",
    "    dat_list[[i]] <- read.table(sample_files[i], header=TRUE, stringsAsFactors=FALSE)\n",
    "    \n",
    "    # Check data format\n",
    "    required_cols <- c(\"chr\", \"pos\", \"N\", \"X\")\n",
    "    if(!all(required_cols %in% colnames(dat_list[[i]]))) {\n",
    "      stop(paste(\"File\", sample_files[i], \"missing required columns:\", \n",
    "                 paste(required_cols[!required_cols %in% colnames(dat_list[[i]])], collapse=\", \")))\n",
    "    }\n",
    "    \n",
    "    # Basic data validation\n",
    "    cat(paste(\"  Rows:\", nrow(dat_list[[i]]), \"\\n\"))\n",
    "    cat(paste(\"  Chromosomes:\", length(unique(dat_list[[i]]$chr)), \"\\n\"))\n",
    "    cat(paste(\"  Mean coverage:\", round(mean(dat_list[[i]]$N, na.rm=TRUE), 2), \"\\n\"))\n",
    "  }\n",
    "  \n",
    "  # Create BSseq object\n",
    "  cat(\"Creating BSseq object...\\n\")\n",
    "  BSobj <- makeBSseqData(dat_list, sampleNames = sample_names)\n",
    "  \n",
    "  # Filter out CpG sites with low coverage\n",
    "  cat(paste(\"Filtering sites with coverage <\", coverage_threshold, \"\\n\"))\n",
    "  initial_sites <- nrow(BSobj)\n",
    "  BSobj <- BSobj[rowSums(getCoverage(BSobj, type=\"Cov\")) >= coverage_threshold]\n",
    "  final_sites <- nrow(BSobj)\n",
    "  \n",
    "  cat(paste(\"CpG sites before filtering:\", initial_sites, \"\\n\"))\n",
    "  cat(paste(\"CpG sites after filtering:\", final_sites, \"\\n\"))\n",
    "  cat(paste(\"Sites removed:\", initial_sites - final_sites, \"\\n\"))\n",
    "  \n",
    "  cat(\"BSseq object created successfully!\\n\")\n",
    "  print(BSobj)\n",
    "  \n",
    "  return(BSobj)\n",
    "}"
   ]
  },
  {
   "cell_type": "code",
   "execution_count": 26,
   "id": "da3032ae-4d95-4b84-90df-43b2b49a36c0",
   "metadata": {},
   "outputs": [
    {
     "name": "stdout",
     "output_type": "stream",
     "text": [
      "Loading bisulfite sequencing data files...\n",
      "Loading data//HG002.pacbio.chr22.count.dss.bed \n",
      "  Rows: 597011 \n",
      "  Chromosomes: 1 \n",
      "  Mean coverage: 30.34 \n",
      "Loading data/st001.lung.pacbio.chr22.hap2.count.dss.bed \n",
      "  Rows: 548166 \n",
      "  Chromosomes: 1 \n",
      "  Mean coverage: 13.02 \n",
      "Loading data/st001.lung.pacbio.chr22.hap1.count.dss.bed \n",
      "  Rows: 552273 \n",
      "  Chromosomes: 1 \n",
      "  Mean coverage: 12.86 \n",
      "Creating BSseq object...\n",
      "Filtering sites with coverage < 5 \n",
      "CpG sites before filtering: 611707 \n",
      "CpG sites after filtering: 611707 \n",
      "Sites removed: 0 \n",
      "BSseq object created successfully!\n",
      "An object of type 'BSseq' with\n",
      "  611707 methylation loci\n",
      "  3 samples\n",
      "has not been smoothed\n",
      "All assays are in-memory\n"
     ]
    }
   ],
   "source": [
    "BSobj_raw <- load_bs_data(sample_files, sample_names, coverage_threshold = 5)\n"
   ]
  },
  {
   "cell_type": "code",
   "execution_count": 21,
   "id": "23c26bfe-c93a-42e1-8806-a286f1853c94",
   "metadata": {
    "jupyter": {
     "source_hidden": true
    }
   },
   "outputs": [],
   "source": [
    "smooth_bsobj <- function(bsobj, cores = 2, save_output = TRUE, output_name = NULL) {\n",
    "  \n",
    "  if(class(bsobj)[1] != \"BSseq\") {\n",
    "    stop(\"Input must be a BSseq object\")\n",
    "  }\n",
    "  \n",
    "  cat(paste(\"Smoothing\", ncol(bsobj), \"samples with\", cores, \"cores...\\n\"))\n",
    "  start_time <- Sys.time()\n",
    "  \n",
    "  # Apply smoothing\n",
    "  bsobj_smooth <- BSmooth(bsobj, BPPARAM = MulticoreParam(workers = cores))\n",
    "  \n",
    "  end_time <- Sys.time()\n",
    "  duration <- round(difftime(end_time, start_time, units=\"mins\"), 2)\n",
    "  cat(paste(\"Completed in\", duration, \"minutes\\n\"))\n",
    "  \n",
    "  # Save if requested\n",
    "  if(save_output) {\n",
    "    if(is.null(output_name)) {\n",
    "      output_name <- paste0(\"BSobj_smoothed_\", format(Sys.time(), \"%Y%m%d_%H%M%S\"), \".RData\")\n",
    "    }\n",
    "    save(bsobj_smooth, file = output_name)\n",
    "    cat(paste(\"Saved to\", output_name, \"\\n\"))\n",
    "  }\n",
    "  \n",
    "  return(bsobj_smooth)\n",
    "}"
   ]
  },
  {
   "cell_type": "code",
   "execution_count": 28,
   "id": "c6d07a96-02cb-4a9d-a51e-392d04de2fbe",
   "metadata": {},
   "outputs": [
    {
     "name": "stdout",
     "output_type": "stream",
     "text": [
      "Smoothing 3 samples with 4 cores...\n"
     ]
    },
    {
     "name": "stderr",
     "output_type": "stream",
     "text": [
      "Warning message in parallel::mccollect(wait = FALSE, timeout = 1):\n",
      "“1 parallel job did not deliver a result”\n"
     ]
    },
    {
     "ename": "ERROR",
     "evalue": "Error in reducer$value.cache[[as.character(idx)]] <- values: wrong args for environment subassignment\n",
     "output_type": "error",
     "traceback": [
      "Error in reducer$value.cache[[as.character(idx)]] <- values: wrong args for environment subassignment\nTraceback:\n",
      "1. BSmooth(bsobj, BPPARAM = MulticoreParam(workers = cores))",
      "2. bptry(bplapply(X = seq_along(grid), FUN = .BSmooth, M = M, Cov = Cov, \n .     pos = pos, coef_sink = coef_sink, se.coef_sink = se.coef_sink, \n .     sink_lock = sink_lock, grid = grid, pos_grid = pos_grid, \n .     ns = ns, h = h, keep.se = keep.se, BPPARAM = BPPARAM))",
      "3. tryCatch(expr, ..., bplist_error = bplist_error, bperror = bperror)",
      "4. tryCatchList(expr, classes, parentenv, handlers)",
      "5. tryCatchOne(tryCatchList(expr, names[-nh], parentenv, handlers[-nh]), \n .     names[nh], parentenv, handlers[[nh]])",
      "6. doTryCatch(return(expr), name, parentenv, handler)",
      "7. tryCatchList(expr, names[-nh], parentenv, handlers[-nh])",
      "8. tryCatchOne(expr, names, parentenv, handlers[[1L]])",
      "9. doTryCatch(return(expr), name, parentenv, handler)",
      "10. bplapply(X = seq_along(grid), FUN = .BSmooth, M = M, Cov = Cov, \n  .     pos = pos, coef_sink = coef_sink, se.coef_sink = se.coef_sink, \n  .     sink_lock = sink_lock, grid = grid, pos_grid = pos_grid, \n  .     ns = ns, h = h, keep.se = keep.se, BPPARAM = BPPARAM)",
      "11. bplapply(X = seq_along(grid), FUN = .BSmooth, M = M, Cov = Cov, \n  .     pos = pos, coef_sink = coef_sink, se.coef_sink = se.coef_sink, \n  .     sink_lock = sink_lock, grid = grid, pos_grid = pos_grid, \n  .     ns = ns, h = h, keep.se = keep.se, BPPARAM = BPPARAM)",
      "12. .bpinit(manager = manager, X = X, FUN = FUN, ARGS = ARGS, BPPARAM = BPPARAM, \n  .     BPOPTIONS = BPOPTIONS, BPREDO = BPREDO)",
      "13. bploop(manager, BPPARAM = BPPARAM, BPOPTIONS = BPOPTIONS, ...)",
      "14. bploop.lapply(manager, BPPARAM = BPPARAM, BPOPTIONS = BPOPTIONS, \n  .     ...)",
      "15. .bploop_impl(ITER = ITER, FUN = FUN, ARGS = ARGS, BPPARAM = BPPARAM, \n  .     BPOPTIONS = BPOPTIONS, BPREDO = BPREDO, reducer = reducer, \n  .     progress.length = length(redo_index))",
      "16. .collect_result(manager, reducer, progress, BPPARAM)",
      "17. .reducer_add(reducer, njob, value)",
      "18. .reducer_add(reducer, njob, value)",
      "19. .handleSimpleError(function (cnd) \n  . {\n  .     watcher$capture_plot_and_output()\n  .     cnd <- sanitize_call(cnd)\n  .     watcher$push(cnd)\n  .     switch(on_error, continue = invokeRestart(\"eval_continue\"), \n  .         stop = invokeRestart(\"eval_stop\"), error = NULL)\n  . }, \"wrong args for environment subassignment\", base::quote(reducer$value.cache[[as.character(idx)]] <- values))"
     ]
    }
   ],
   "source": [
    "smoothed_HG002_pb <- smooth_bsobj(BSobj_raw, cores=4)"
   ]
  },
  {
   "cell_type": "code",
   "execution_count": null,
   "id": "ee370d68-ab9f-4734-a711-0da91a48e337",
   "metadata": {},
   "outputs": [],
   "source": []
  }
 ],
 "metadata": {
  "kernelspec": {
   "display_name": "R",
   "language": "R",
   "name": "ir"
  },
  "language_info": {
   "codemirror_mode": "r",
   "file_extension": ".r",
   "mimetype": "text/x-r-source",
   "name": "R",
   "pygments_lexer": "r",
   "version": "4.5.1"
  }
 },
 "nbformat": 4,
 "nbformat_minor": 5
}
