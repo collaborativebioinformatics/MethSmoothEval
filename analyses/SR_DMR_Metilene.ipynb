{
 "cells": [
  {
   "cell_type": "markdown",
   "id": "b5330e74-30bc-438f-98e7-1ed5b995a1eb",
   "metadata": {},
   "source": [
    "### Analysis of the SR data (raw and smooth)\n",
    "The SR methylation calls from BSsmooth were taken for EMSeq and TruSeq (no TruMethyl since distinct samples are absent). Our aim is to compare methylation difference (DMRs) using Metilene, and see if smoothing makes a differences in called DMRs."
   ]
  },
  {
   "cell_type": "code",
   "execution_count": 6,
   "id": "77aa03db-de53-40cb-aff9-0a8c2541a8f8",
   "metadata": {
    "tags": []
   },
   "outputs": [],
   "source": [
    "# RUN FIRST TIME\n",
    "# install.packages(\"tidyverse\")\n",
    "# install.packages(\"wesanderson\")\n",
    "# install.packages(\"cowplot\")\n"
   ]
  },
  {
   "cell_type": "code",
   "execution_count": 7,
   "id": "5faa731e-6328-4c50-890e-498d5bf81fa6",
   "metadata": {
    "tags": []
   },
   "outputs": [],
   "source": [
    "# Load packages\n",
    "library(ggplot2)\n",
    "library(data.table)\n",
    "library(tidyverse)\n",
    "library(wesanderson)\n",
    "library(RColorBrewer)\n",
    "library(viridis)\n",
    "library(cowplot)\n"
   ]
  },
  {
   "cell_type": "code",
   "execution_count": 3,
   "id": "f85962de-4eaf-4ea9-9993-3adf310301f1",
   "metadata": {
    "tags": []
   },
   "outputs": [
    {
     "data": {
      "text/html": [
       "'/opt/notebooks'"
      ],
      "text/latex": [
       "'/opt/notebooks'"
      ],
      "text/markdown": [
       "'/opt/notebooks'"
      ],
      "text/plain": [
       "[1] \"/opt/notebooks\""
      ]
     },
     "metadata": {},
     "output_type": "display_data"
    },
    {
     "data": {
      "text/html": [
       "<style>\n",
       ".list-inline {list-style: none; margin:0; padding: 0}\n",
       ".list-inline>li {display: inline-block}\n",
       ".list-inline>li:not(:last-child)::after {content: \"\\00b7\"; padding: 0 .5ex}\n",
       "</style>\n",
       "<ol class=list-inline><li>'outputs/metilene/results/GSM5649427_TruSeq_HG005_LAB01_REP02__GSM5649436_TruSeq_HG002_LAB01_REP02.raw.sr.metilene.out.tsv'</li><li>'outputs/metilene/results/GSM5649427_TruSeq_HG005_LAB01_REP02__GSM5649436_TruSeq_HG002_LAB01_REP02.smoothed.sr.metilene.out.tsv'</li><li>'outputs/metilene/results/GSM5649520_EMSeq_HG002_LAB01_REP01__GSM5649571_EMSeq_HG005_LAB02_REP01.raw.sr.metilene.out.tsv'</li><li>'outputs/metilene/results/GSM5649520_EMSeq_HG002_LAB01_REP01__GSM5649571_EMSeq_HG005_LAB02_REP01.smoothed.sr.metilene.out.tsv'</li></ol>\n"
      ],
      "text/latex": [
       "\\begin{enumerate*}\n",
       "\\item 'outputs/metilene/results/GSM5649427\\_TruSeq\\_HG005\\_LAB01\\_REP02\\_\\_GSM5649436\\_TruSeq\\_HG002\\_LAB01\\_REP02.raw.sr.metilene.out.tsv'\n",
       "\\item 'outputs/metilene/results/GSM5649427\\_TruSeq\\_HG005\\_LAB01\\_REP02\\_\\_GSM5649436\\_TruSeq\\_HG002\\_LAB01\\_REP02.smoothed.sr.metilene.out.tsv'\n",
       "\\item 'outputs/metilene/results/GSM5649520\\_EMSeq\\_HG002\\_LAB01\\_REP01\\_\\_GSM5649571\\_EMSeq\\_HG005\\_LAB02\\_REP01.raw.sr.metilene.out.tsv'\n",
       "\\item 'outputs/metilene/results/GSM5649520\\_EMSeq\\_HG002\\_LAB01\\_REP01\\_\\_GSM5649571\\_EMSeq\\_HG005\\_LAB02\\_REP01.smoothed.sr.metilene.out.tsv'\n",
       "\\end{enumerate*}\n"
      ],
      "text/markdown": [
       "1. 'outputs/metilene/results/GSM5649427_TruSeq_HG005_LAB01_REP02__GSM5649436_TruSeq_HG002_LAB01_REP02.raw.sr.metilene.out.tsv'\n",
       "2. 'outputs/metilene/results/GSM5649427_TruSeq_HG005_LAB01_REP02__GSM5649436_TruSeq_HG002_LAB01_REP02.smoothed.sr.metilene.out.tsv'\n",
       "3. 'outputs/metilene/results/GSM5649520_EMSeq_HG002_LAB01_REP01__GSM5649571_EMSeq_HG005_LAB02_REP01.raw.sr.metilene.out.tsv'\n",
       "4. 'outputs/metilene/results/GSM5649520_EMSeq_HG002_LAB01_REP01__GSM5649571_EMSeq_HG005_LAB02_REP01.smoothed.sr.metilene.out.tsv'\n",
       "\n",
       "\n"
      ],
      "text/plain": [
       "[1] \"outputs/metilene/results/GSM5649427_TruSeq_HG005_LAB01_REP02__GSM5649436_TruSeq_HG002_LAB01_REP02.raw.sr.metilene.out.tsv\"     \n",
       "[2] \"outputs/metilene/results/GSM5649427_TruSeq_HG005_LAB01_REP02__GSM5649436_TruSeq_HG002_LAB01_REP02.smoothed.sr.metilene.out.tsv\"\n",
       "[3] \"outputs/metilene/results/GSM5649520_EMSeq_HG002_LAB01_REP01__GSM5649571_EMSeq_HG005_LAB02_REP01.raw.sr.metilene.out.tsv\"       \n",
       "[4] \"outputs/metilene/results/GSM5649520_EMSeq_HG002_LAB01_REP01__GSM5649571_EMSeq_HG005_LAB02_REP01.smoothed.sr.metilene.out.tsv\"  "
      ]
     },
     "metadata": {},
     "output_type": "display_data"
    }
   ],
   "source": [
    "#\n",
    "getwd()\n",
    "metilene_out1 = list.files(path=\"outputs/metilene/results\", pattern=\"\\\\.sr\\\\.metilene\\\\.out\\\\.tsv\", full.names = TRUE, recursive=FALSE, ignore.case = FALSE)\n",
    "metilene_out1\n"
   ]
  },
  {
   "cell_type": "code",
   "execution_count": 4,
   "id": "d27963e6-56aa-48ee-b1e5-82e8193ac27c",
   "metadata": {
    "tags": []
   },
   "outputs": [
    {
     "data": {
      "text/html": [
       "<table class=\"dataframe\">\n",
       "<caption>A data.frame: 4 × 7</caption>\n",
       "<thead>\n",
       "\t<tr><th scope=col>Group1</th><th scope=col>Group2</th><th scope=col>Type</th><th scope=col>Seq</th><th scope=col>count_total_calls</th><th scope=col>count_signf_calls</th><th scope=col>Group</th></tr>\n",
       "\t<tr><th scope=col>&lt;chr&gt;</th><th scope=col>&lt;chr&gt;</th><th scope=col>&lt;chr&gt;</th><th scope=col>&lt;chr&gt;</th><th scope=col>&lt;dbl&gt;</th><th scope=col>&lt;dbl&gt;</th><th scope=col>&lt;chr&gt;</th></tr>\n",
       "</thead>\n",
       "<tbody>\n",
       "\t<tr><td>HG005</td><td>HG002</td><td>raw     </td><td>TruSeq</td><td>2206</td><td>18</td><td>HG005_HG002</td></tr>\n",
       "\t<tr><td>HG005</td><td>HG002</td><td>smoothed</td><td>TruSeq</td><td>   0</td><td> 0</td><td>HG005_HG002</td></tr>\n",
       "\t<tr><td>HG002</td><td>HG005</td><td>raw     </td><td>EMSeq </td><td>4199</td><td>61</td><td>HG002_HG005</td></tr>\n",
       "\t<tr><td>HG002</td><td>HG005</td><td>smoothed</td><td>EMSeq </td><td>   0</td><td> 0</td><td>HG002_HG005</td></tr>\n",
       "</tbody>\n",
       "</table>\n"
      ],
      "text/latex": [
       "A data.frame: 4 × 7\n",
       "\\begin{tabular}{lllllll}\n",
       " Group1 & Group2 & Type & Seq & count\\_total\\_calls & count\\_signf\\_calls & Group\\\\\n",
       " <chr> & <chr> & <chr> & <chr> & <dbl> & <dbl> & <chr>\\\\\n",
       "\\hline\n",
       "\t HG005 & HG002 & raw      & TruSeq & 2206 & 18 & HG005\\_HG002\\\\\n",
       "\t HG005 & HG002 & smoothed & TruSeq &    0 &  0 & HG005\\_HG002\\\\\n",
       "\t HG002 & HG005 & raw      & EMSeq  & 4199 & 61 & HG002\\_HG005\\\\\n",
       "\t HG002 & HG005 & smoothed & EMSeq  &    0 &  0 & HG002\\_HG005\\\\\n",
       "\\end{tabular}\n"
      ],
      "text/markdown": [
       "\n",
       "A data.frame: 4 × 7\n",
       "\n",
       "| Group1 &lt;chr&gt; | Group2 &lt;chr&gt; | Type &lt;chr&gt; | Seq &lt;chr&gt; | count_total_calls &lt;dbl&gt; | count_signf_calls &lt;dbl&gt; | Group &lt;chr&gt; |\n",
       "|---|---|---|---|---|---|---|\n",
       "| HG005 | HG002 | raw      | TruSeq | 2206 | 18 | HG005_HG002 |\n",
       "| HG005 | HG002 | smoothed | TruSeq |    0 |  0 | HG005_HG002 |\n",
       "| HG002 | HG005 | raw      | EMSeq  | 4199 | 61 | HG002_HG005 |\n",
       "| HG002 | HG005 | smoothed | EMSeq  |    0 |  0 | HG002_HG005 |\n",
       "\n"
      ],
      "text/plain": [
       "  Group1 Group2 Type     Seq    count_total_calls count_signf_calls Group      \n",
       "1 HG005  HG002  raw      TruSeq 2206              18                HG005_HG002\n",
       "2 HG005  HG002  smoothed TruSeq    0               0                HG005_HG002\n",
       "3 HG002  HG005  raw      EMSeq  4199              61                HG002_HG005\n",
       "4 HG002  HG005  smoothed EMSeq     0               0                HG002_HG005"
      ]
     },
     "metadata": {},
     "output_type": "display_data"
    }
   ],
   "source": [
    "#\n",
    "df_file_stats <- data.frame(\n",
    "  Group1 = character(), Group2 = character(), Type = character(), Seq = character(),\n",
    "  count_total_calls = numeric(), count_signf_calls = numeric(), stringsAsFactors = FALSE\n",
    ")\n",
    "\n",
    "df_file_stats <- lapply(metilene_out1, function(file1) {\n",
    "  row_df1 <- data.frame(\n",
    "    Group1 = NA, Group2 = NA, Type = NA, Seq = NA,\n",
    "    count_total_calls = 0, count_signf_calls = 0, stringsAsFactors = FALSE\n",
    "  )\n",
    "  \n",
    "  size1 <- file.info(file1)$size\n",
    "  if (size1 > 0) {\n",
    "    df1 <- read.table(file1, header = FALSE)\n",
    "    row_df1$count_total_calls <- nrow(df1)\n",
    "    row_df1$count_signf_calls <- nrow(dplyr::filter(df1, V4 <= 0.1))\n",
    "  }\n",
    "  \n",
    "  # Extract metadata from filename\n",
    "  row_df1$Group1 <- sub(\"__.*\", \"\", basename(file1))\n",
    "  row_df1$Group1 <- sub(\".*_HG\", \"HG\", row_df1$Group1)\n",
    "  row_df1$Group1 <- sub(\"_.*\", \"\", row_df1$Group1)    \n",
    "  row_df1$Group2 <- sub(\"\\\\..*\", \"\", sub(\".*__\", \"\", basename(file1)))\n",
    "  row_df1$Group2 <- sub(\".*_HG\", \"HG\", row_df1$Group2)\n",
    "  row_df1$Group2 <- sub(\"_.*\", \"\", row_df1$Group2)    \n",
    "  row_df1$Type <- sub(\".*\\\\.\", \"\", sub(\".sr.metilene.out.tsv\", \"\", basename(file1)))\n",
    "  row_df1$Seq <- sub(\".*_\", \"\", sub(\"_HG00[0-9].*\", \"\", basename(file1)))\n",
    "  \n",
    "  return(row_df1)\n",
    "})\n",
    "\n",
    "df_file_stats <- do.call(rbind, df_file_stats)\n",
    "df_file_stats <- df_file_stats |>\n",
    "  dplyr::mutate(Group = paste(Group1, Group2, sep = \"_\"))\n",
    "\n",
    "#\n",
    "df_file_stats\n"
   ]
  },
  {
   "cell_type": "code",
   "execution_count": 14,
   "id": "0e0541e6-883f-45af-b9ca-c52d7b5334a9",
   "metadata": {
    "tags": []
   },
   "outputs": [
    {
     "data": {
      "text/html": [
       "<strong>agg_record_939368229:</strong> 2"
      ],
      "text/latex": [
       "\\textbf{agg\\textbackslash{}\\_record\\textbackslash{}\\_939368229:} 2"
      ],
      "text/markdown": [
       "**agg_record_939368229:** 2"
      ],
      "text/plain": [
       "agg_record_939368229 \n",
       "                   2 "
      ]
     },
     "metadata": {},
     "output_type": "display_data"
    }
   ],
   "source": [
    "# Plot\n",
    "plot1 <- ggplot(df_file_stats, aes(x = Group, y = count_total_calls, fill = Type)) +\n",
    "  geom_bar(stat = \"identity\", position = \"dodge\") +\n",
    "  facet_wrap(~ Seq) + scale_fill_manual(values = brewer.pal(3, \"Dark2\")) +\n",
    "  labs(x = \"\", y = \"#DMRs\", title = \"Total Calls\") +\n",
    "  theme_minimal() +\n",
    "  theme(axis.text.x = element_text(angle = 45, hjust = 1),\n",
    "       plot.title = element_text(hjust = 0.5))\n",
    "\n",
    "plot2 <- ggplot(df_file_stats, aes(x = Group, y = count_signf_calls, fill = Type)) +\n",
    "  geom_bar(stat = \"identity\", position = \"dodge\") +\n",
    "  facet_wrap(~ Seq) + scale_fill_manual(values = brewer.pal(3, \"Dark2\")) +\n",
    "  labs(x = \"\", y = \"#DMRs\", title = \"Signf. Calls\") +\n",
    "  theme_minimal() +\n",
    "  theme(axis.text.x = element_text(angle = 45, hjust = 1),\n",
    "       plot.title = element_text(hjust = 0.5))\n",
    "\n",
    "plot_compare <- plot_grid(plot1, plot2, labels = c('A', 'B'), label_size = 8)\n",
    "\n",
    "pdf(file = paste0(\"/opt/notebooks/outputs/metilene/results/\",\"compare_sr_dmr_counts.pdf\"),\n",
    "    width = 10, height = 5)\n",
    "plot_compare\n",
    "dev.off()\n",
    "\n"
   ]
  }
 ],
 "metadata": {
  "kernelspec": {
   "display_name": "R",
   "language": "R",
   "name": "ir"
  },
  "language_info": {
   "codemirror_mode": "r",
   "file_extension": ".r",
   "mimetype": "text/x-r-source",
   "name": "R",
   "pygments_lexer": "r",
   "version": "4.4.2"
  }
 },
 "nbformat": 4,
 "nbformat_minor": 5
}
